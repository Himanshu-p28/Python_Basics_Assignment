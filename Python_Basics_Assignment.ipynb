{
  "cells": [
    {
      "cell_type": "markdown",
      "source": [
        "**Q1.Explain the key features of Python that make it a popular choice for programming?**\n",
        "\n",
        "**Sol.**.Python is a dynamic, interpreted high level language developed by Guido van Rossum in 1989.\n",
        " The key features of Python that makes it a popular choice for programing are as follows:\n",
        "\n",
        " 1.**Open Source and Huge active community:** Python is free to all its users with huge active community that are working on the\n",
        " language. There are multiple forums available.\n",
        "\n",
        " **2. Simple and easy syntax:** Syntax in python are easy which makes easy to understand and beginner friendly.\n",
        "\n",
        " **3. Large library support:** Python has more then 1,30,000 libraries(still growing) which can be used in machine learning, data\n",
        " science, data visualisation and many more elds. Some popular libraries are Numpy, Pandas, Matplotlib, Scipy, Tensor ow\n",
        " etc.Availability of such huge libraries makes it easy to build complex applications in less time and less number of code.\n",
        "\n",
        " **4.Platform Independent:** Python is a platform independent language, which means its code can run on different operating\n",
        " systems without modi cation. This makes python easy to develop and deploy applications on different platforms.\n",
        "\n",
        " **5.Interpreted:** Python is an interpreted language which means that the its code is executed line by line. This makes it easy to\n",
        " test and debug code.\n",
        "\n",
        " **6.High-Level:** Python is a high-level language which means it abstracts away low-level details like memory management and\n",
        " hardware interaction which makes it easier to write and understand code.\n",
        "\n",
        " **7.Dynamic Typing:** Python is dynamically typed which means user do not have to declare the data type of a variable. Python\n",
        " will automatically assign the data type based on the type of value assigned.\n",
        "\n",
        " **8.Strong Typing:** Python is strongly typed, which means that the data type of a variable is enforced at runtime. This helps in\n",
        " preventing errors and makes code more robust.\n",
        "\n",
        " **9.Versatile:** Python is a versatile language that can be used for various purposes, including web development, data science,\n",
        " arti cial intelligence, game development etc."
      ],
      "metadata": {
        "id": "qmimMLmSLdB-"
      }
    },
    {
      "cell_type": "markdown",
      "source": [
        " **Q2.Describe the role of predefined keywords in Python and provide examples of how they are used in a program ?**\n",
        "\n",
        " **Sol.**Keywords are used to define the syntax of the coding. Python has a set of keywords that are reserved words that cannot be used as variable names, function names, or any other identifers.There are 35 keywords(as of Python 3.8).\n",
        "\n",
        "**Rules for Keywords in Python:**\n",
        "\n",
        " 1.Keywords cannot be used as identifers.\n",
        "\n",
        " 2.All the keywords in should be in lowercase except True and False.\n",
        "\n",
        " Some examples using keywords are as follows\n"
      ],
      "metadata": {
        "id": "2b0pVGlxF6QD"
      }
    },
    {
      "cell_type": "code",
      "source": [
        "#Program using keywords def,if, elif and else.\n",
        "def compare(a,b):                  #keyword: def\n",
        "  if a>b:                          #keyword: if\n",
        "    print(f\"{a} is greater then {b}\")\n",
        "  elif a<b:                        #keyword: elif\n",
        "    print(f\"{b} is greater then {a}\")\n",
        "  else: print(\"both are equal\")                           #keyword: else\n",
        "\n",
        "x=float(input(\"Enter a number : \"))\n",
        "y=float(input(\"Enter a number : \"))\n",
        "z=float(input(\"Enter a number : \"))\n",
        "compare(x,y)\n",
        "compare(z,x)"
      ],
      "metadata": {
        "colab": {
          "base_uri": "https://localhost:8080/"
        },
        "id": "rcxST7ftGuLp",
        "outputId": "a3c525f7-a3ff-44f3-e2f3-a19e9667f050"
      },
      "execution_count": null,
      "outputs": [
        {
          "output_type": "stream",
          "name": "stdout",
          "text": [
            "Enter a number : 15.2\n",
            "Enter a number : 15.2\n",
            "Enter a number : 22\n",
            "both are equal\n",
            "22.0 is greater then 15.2\n"
          ]
        }
      ]
    },
    {
      "cell_type": "code",
      "source": [
        "#Program using keywords for,in, continue, elif, break\n",
        "for i in range(1,11):             #keyword: for, in\n",
        "  if i%2==0:\n",
        "    print(\"Continue executed\")\n",
        "    continue                      #keyword: continue\n",
        "  elif i%9==0:                    #keyword: elif\n",
        "    print(\"Break executed\")\n",
        "    break                         #keyword: break\n",
        "  else:\n",
        "    print(i)"
      ],
      "metadata": {
        "colab": {
          "base_uri": "https://localhost:8080/"
        },
        "id": "rpmK4wN7Gzf5",
        "outputId": "c7463082-962c-48e4-ea38-a8cf74e39b69"
      },
      "execution_count": null,
      "outputs": [
        {
          "output_type": "stream",
          "name": "stdout",
          "text": [
            "1\n",
            "Continue executed\n",
            "3\n",
            "Continue executed\n",
            "5\n",
            "Continue executed\n",
            "7\n",
            "Continue executed\n",
            "Break executed\n"
          ]
        }
      ]
    },
    {
      "cell_type": "code",
      "source": [
        "#Program using keywords try, except, return.\n",
        "def fxn(n):\n",
        "  try:                        #keyword: try\n",
        "    inverse = 1/n\n",
        "  except:                     #keyword: except\n",
        "    print(\"Exception Handled\")\n",
        "    return n                  #keyword: return\n",
        "  return inverse\n",
        "print(fxn(5))\n",
        "print(fxn(0))"
      ],
      "metadata": {
        "colab": {
          "base_uri": "https://localhost:8080/"
        },
        "id": "DdxJNhdOHPS5",
        "outputId": "cf559e40-350c-4186-b61a-5640062b63cd"
      },
      "execution_count": null,
      "outputs": [
        {
          "output_type": "stream",
          "name": "stdout",
          "text": [
            "0.2\n",
            "Exception Handled\n",
            "0\n"
          ]
        }
      ]
    },
    {
      "cell_type": "code",
      "source": [
        "#Program using keywords import, as\n",
        "import pandas as pd           #Keyword: import, as\n",
        "sheet_id=\"1q5zCFunIJmGZjkYrHo7_YcpgYkC0XqpcIGbfPM_vD0c\"\n",
        "df=pd.read_csv(f\"https://docs.google.com/spreadsheets/d/{sheet_id}/export?format=csv\")\n",
        "print(df)\n",
        "#PRINTS ALL THE 35 KEYWORDS OF PYTHON"
      ],
      "metadata": {
        "colab": {
          "base_uri": "https://localhost:8080/"
        },
        "id": "nkf_U9VHJeKZ",
        "outputId": "8bef1972-ea16-4c07-f4f3-417b7d4d3fdb"
      },
      "execution_count": 36,
      "outputs": [
        {
          "output_type": "stream",
          "name": "stdout",
          "text": [
            "    S.No.  KEYWORDS                                        Description\n",
            "0       1    False.                      This is also a boolean value.\n",
            "1       2     True.                           This is a boolean value.\n",
            "2       3       NaN  This is a special constant used to denote a nu...\n",
            "3       4       and  This is a logical operator which returns true ...\n",
            "4       5       not  This is again a logical operator it returns Tr...\n",
            "5       6        or  This is also a logical operator which returns ...\n",
            "6       7     break                This is used to terminate the loop.\n",
            "7       8  continue      It continues to the next iteration of a loop.\n",
            "8       9       try                   It makes a try-except statement.\n",
            "9      10    except  Used with exceptions, what to do when an excep...\n",
            "10     11        if      This is used to make a conditional statement.\n",
            "11     12      elif  Elif is a condition statement used with an if ...\n",
            "12     13      else  Else is used with if and elif conditional stat...\n",
            "13     14       for                     This is used to create a loop.\n",
            "14     15     while       This keyword is used to create a while loop.\n",
            "15     16     class                     It helps us to define a class.\n",
            "16     17      from  It is used to import specific parts of any mod...\n",
            "17     18       del               It deletes a reference to an object.\n",
            "18     19    return      It will return a value and exit the function.\n",
            "19     20       def                   It helps us to define functions.\n",
            "20     21    global                   This declares a global variable.\n",
            "21     22    import                   This is used to import a module.\n",
            "22     23        in  It’s used to check whether a value is present ...\n",
            "23     24      with  The with keyword is used to simplify exception...\n",
            "24     25     yield        It ends a function and returns a generator.\n",
            "25     26   finally  Finally is used with exceptions, a block of co...\n",
            "26     27        as             This is used to create an alternative.\n",
            "27     28    assert  This function is used for debugging purposes. ...\n",
            "28     29     async       It is used to create asynchronous coroutine.\n",
            "29     30     await  It releases the flow of control back to the ev...\n",
            "30     31        is  This is used to check if the two variables are...\n",
            "31     32    lambda       It is used to define the anonymous function.\n",
            "32     33  nonlocal                It’s declared a non-local variable.\n",
            "33     34      pass  This is a null statement which means it will d...\n",
            "34     35     raise                          This raises an exception.\n"
          ]
        }
      ]
    },
    {
      "cell_type": "code",
      "source": [
        "#Program using keywords is, is not\n",
        "x = 100\n",
        "y = \"\"\n",
        "if bool(x) is True:                 #Keyword: is\n",
        "  print(\"True for x\")\n",
        "if bool(x) is not bool(y):          #Keyword: is not\n",
        "  print(\"Different values\")"
      ],
      "metadata": {
        "colab": {
          "base_uri": "https://localhost:8080/"
        },
        "id": "FAQeNO2SJsLL",
        "outputId": "68dc934b-ae11-468e-fb81-945819d18810"
      },
      "execution_count": null,
      "outputs": [
        {
          "output_type": "stream",
          "name": "stdout",
          "text": [
            "True for x\n",
            "Different values\n"
          ]
        }
      ]
    },
    {
      "cell_type": "code",
      "source": [
        "#Program using keyword while\n",
        "n=[20,7,51,524,84,23,11,13,2]\n",
        "i=len(n)-1\n",
        "while i>-1:                           #keyword: while\n",
        "  if n[i]%2==0:\n",
        "    print(f\"{n[i]} : even;\", end=\" \")\n",
        "  else:\n",
        "    print(f\"{n[i]} : odd;\",end=\" \")\n",
        "  i-=1"
      ],
      "metadata": {
        "colab": {
          "base_uri": "https://localhost:8080/"
        },
        "id": "2pDkKoO0J6Wt",
        "outputId": "c24b7c4a-ed18-4977-e05c-fd3c243b3183"
      },
      "execution_count": null,
      "outputs": [
        {
          "output_type": "stream",
          "name": "stdout",
          "text": [
            "2 : even; 13 : odd; 11 : odd; 23 : odd; 84 : even; 524 : even; 51 : odd; 7 : odd; 20 : even; "
          ]
        }
      ]
    },
    {
      "cell_type": "code",
      "source": [
        "#Program using keyword \"and\"\n",
        "n=[14,\"hh\",33,\"hy\",True, 8,70]\n",
        "i=0\n",
        "while i<len(n):\n",
        "  if type(n[i])==int:\n",
        "    if((n[i]%2==0) and (n[i]%7==0)):        #keyword: and\n",
        "      print(f\"{n[i]} is divisible by 2 and 7.\")\n",
        "  i+=1"
      ],
      "metadata": {
        "colab": {
          "base_uri": "https://localhost:8080/"
        },
        "id": "lNH59_aEKWYn",
        "outputId": "711e3f00-0daf-4a45-923e-fa6532267712"
      },
      "execution_count": null,
      "outputs": [
        {
          "output_type": "stream",
          "name": "stdout",
          "text": [
            "14 is divisible by 2 and 7.\n",
            "70 is divisible by 2 and 7.\n"
          ]
        }
      ]
    },
    {
      "cell_type": "code",
      "source": [
        "#Program using keyword \"or\"\n",
        "n=[4,\"hh\",33,\"hy\",True, 8,70]\n",
        "i=0\n",
        "while i<len(n):\n",
        "  if type(n[i])==int:\n",
        "    if((n[i]%2==0) or (n[i]%7==0)):           #keyword : or\n",
        "      print(f\"{n[i]} is divisible by 2 or 7.\")\n",
        "  else:print(\"its a var\")\n",
        "  i+=1"
      ],
      "metadata": {
        "colab": {
          "base_uri": "https://localhost:8080/"
        },
        "id": "t9crHepPKfjA",
        "outputId": "84daddc6-fb2a-4f1b-ca79-109a7ead0e3f"
      },
      "execution_count": null,
      "outputs": [
        {
          "output_type": "stream",
          "name": "stdout",
          "text": [
            "4 is divisible by 2 or 7.\n",
            "its a var\n",
            "its a var\n",
            "its a var\n",
            "8 is divisible by 2 or 7.\n",
            "70 is divisible by 2 or 7.\n"
          ]
        }
      ]
    },
    {
      "cell_type": "code",
      "source": [
        "#Program using keyword \"not\" to find odd numbers\n",
        "n=[2,5,8,9,10]\n",
        "i=0\n",
        "while i<len(n):\n",
        "  if bool(n[i]%2) is True:          #Keyword: not\n",
        "    print(n[i])\n",
        "  i+=1"
      ],
      "metadata": {
        "colab": {
          "base_uri": "https://localhost:8080/"
        },
        "id": "bG8sgQf3Krwf",
        "outputId": "d5a41404-5d60-4855-a509-37fdf37fa241"
      },
      "execution_count": null,
      "outputs": [
        {
          "output_type": "stream",
          "name": "stdout",
          "text": [
            "5\n",
            "9\n"
          ]
        }
      ]
    },
    {
      "cell_type": "markdown",
      "source": [
        "**Q3  Compare and contrast mutable and immutable objects in Python with examples.**\n",
        "\n",
        "**Sol.**Objects in python can be either modifidable (mutable) or unmodifidable (immutable).\n",
        "1. **Mutable objects** such as lists and dictionaries, can be modified after creation, while **immutable objects** such as tuples and strings, cannot.\n",
        "\n",
        "\n",
        " 2. **Immutable** objects are quicker to access and are expensive to change because it involves the creation of a copy. Whereas **mutable** objects are easy to change.The use of mutable objects is recommended when there is a need to change the size or content of the object.\n",
        "\n",
        "\n"
      ],
      "metadata": {
        "id": "MdMVM0uPNM_J"
      }
    },
    {
      "cell_type": "code",
      "source": [
        "# Program explaining lists are mutable\n",
        "list_var=[\"1000\",25,12.56,True]\n",
        "\n",
        "list_var.append(\"Ended\")\n",
        "print(f\"List after append fxn = {list_var}\")\n",
        "\n",
        "list_var.insert(1,\"new_item_inserted\")\n",
        "print(f\"List after new element is inserted = {list_var}\")\n",
        "\n",
        "list_var.remove(12.56)\n",
        "print(f\"List after element is removerd = {list_var}\")\n",
        "\n",
        "x=list_var.pop(2)\n",
        "print(f\"List after elements poped = {list_var}\")\n",
        "print(f\"poped element = {x}\")\n"
      ],
      "metadata": {
        "colab": {
          "base_uri": "https://localhost:8080/"
        },
        "id": "rXx2VykjRHd7",
        "outputId": "0e2ddbcd-25c9-4425-c27a-3783387aec3f"
      },
      "execution_count": null,
      "outputs": [
        {
          "output_type": "stream",
          "name": "stdout",
          "text": [
            "List after append fxn = ['1000', 25, 12.56, True, 'Ended']\n",
            "List after new element is inserted = ['1000', 'new_item_inserted', 25, 12.56, True, 'Ended']\n",
            "List after element is removerd = ['1000', 'new_item_inserted', 25, True, 'Ended']\n",
            "List after elements poped = ['1000', 'new_item_inserted', True, 'Ended']\n",
            "poped element = 25\n"
          ]
        }
      ]
    },
    {
      "cell_type": "code",
      "source": [
        "#Program explaining dictionary is mutable\n",
        "dict1 = {\"name\": \"Ram\", \"age\": 25}\n",
        "dict2 = dict1\n",
        "dict2[\"age\"] = 37\n",
        "print(\"old dictionary : \",dict1)\n",
        "print(\"new dictionary : \",dict2)\n",
        "\n",
        "n1={1,2,5,10}\n",
        "n2=n1\n",
        "n2.add(8000)\n",
        "print(n2)"
      ],
      "metadata": {
        "colab": {
          "base_uri": "https://localhost:8080/"
        },
        "id": "KNYCcXVqVilK",
        "outputId": "692a3e8b-f6c3-49a6-9a9c-7f4d61fbc976"
      },
      "execution_count": null,
      "outputs": [
        {
          "output_type": "stream",
          "name": "stdout",
          "text": [
            "old dictionary :  {'name': 'Ram', 'age': 37}\n",
            "new dictionary :  {'name': 'Ram', 'age': 37}\n",
            "{8000, 1, 2, 5, 10}\n"
          ]
        }
      ]
    },
    {
      "cell_type": "code",
      "source": [
        "#Program explaining Tuple is immutable\n",
        "tup1=(5,8,9,7,2)                          #tup1==(5,8,9,7,2,) coma in last optional\n",
        "tup2=(1000,)                              #without comma it will be considered int\n",
        "print(\"tup1 : \",tup1)\n",
        "print(f\"tup1[2] : {tup1[2]}\")\n",
        "tup1[2]=500                               # will not allow to change the value\n",
        "print(tup1)"
      ],
      "metadata": {
        "colab": {
          "base_uri": "https://localhost:8080/",
          "height": 228
        },
        "id": "zDZe1RLRccnW",
        "outputId": "13912e73-29b2-4aba-d48f-4ed3e68fee45"
      },
      "execution_count": null,
      "outputs": [
        {
          "output_type": "stream",
          "name": "stdout",
          "text": [
            "tup1 :  (5, 8, 9, 7, 2)\n",
            "tup1[2] : 9\n"
          ]
        },
        {
          "output_type": "error",
          "ename": "TypeError",
          "evalue": "'tuple' object does not support item assignment",
          "traceback": [
            "\u001b[0;31m---------------------------------------------------------------------------\u001b[0m",
            "\u001b[0;31mTypeError\u001b[0m                                 Traceback (most recent call last)",
            "\u001b[0;32m<ipython-input-28-acf34c2ec890>\u001b[0m in \u001b[0;36m<cell line: 6>\u001b[0;34m()\u001b[0m\n\u001b[1;32m      4\u001b[0m \u001b[0mprint\u001b[0m\u001b[0;34m(\u001b[0m\u001b[0;34m\"tup1 : \"\u001b[0m\u001b[0;34m,\u001b[0m\u001b[0mtup1\u001b[0m\u001b[0;34m)\u001b[0m\u001b[0;34m\u001b[0m\u001b[0;34m\u001b[0m\u001b[0m\n\u001b[1;32m      5\u001b[0m \u001b[0mprint\u001b[0m\u001b[0;34m(\u001b[0m\u001b[0;34mf\"tup1[2] : {tup1[2]}\"\u001b[0m\u001b[0;34m)\u001b[0m\u001b[0;34m\u001b[0m\u001b[0;34m\u001b[0m\u001b[0m\n\u001b[0;32m----> 6\u001b[0;31m \u001b[0mtup1\u001b[0m\u001b[0;34m[\u001b[0m\u001b[0;36m2\u001b[0m\u001b[0;34m]\u001b[0m\u001b[0;34m=\u001b[0m\u001b[0;36m500\u001b[0m                               \u001b[0;31m# will not allow to change the value\u001b[0m\u001b[0;34m\u001b[0m\u001b[0;34m\u001b[0m\u001b[0m\n\u001b[0m\u001b[1;32m      7\u001b[0m \u001b[0mprint\u001b[0m\u001b[0;34m(\u001b[0m\u001b[0mtup1\u001b[0m\u001b[0;34m)\u001b[0m\u001b[0;34m\u001b[0m\u001b[0;34m\u001b[0m\u001b[0m\n",
            "\u001b[0;31mTypeError\u001b[0m: 'tuple' object does not support item assignment"
          ]
        }
      ]
    },
    {
      "cell_type": "code",
      "source": [
        "#Program explaining String is immutable\n",
        "string=\"Immutable\"\n",
        "for i in range(0,len(string)):\n",
        "  print(string[i],end=\"  \")\n",
        "string[5]=\"Z\"\n",
        "print(string)                          #this will give error"
      ],
      "metadata": {
        "colab": {
          "base_uri": "https://localhost:8080/",
          "height": 211
        },
        "id": "iCL4m84zefar",
        "outputId": "00c1e5af-0600-4b3b-ea35-8209abe34816"
      },
      "execution_count": null,
      "outputs": [
        {
          "output_type": "stream",
          "name": "stdout",
          "text": [
            "I  m  m  u  t  a  b  l  e  "
          ]
        },
        {
          "output_type": "error",
          "ename": "TypeError",
          "evalue": "'str' object does not support item assignment",
          "traceback": [
            "\u001b[0;31m---------------------------------------------------------------------------\u001b[0m",
            "\u001b[0;31mTypeError\u001b[0m                                 Traceback (most recent call last)",
            "\u001b[0;32m<ipython-input-39-ad81b0eda1f6>\u001b[0m in \u001b[0;36m<cell line: 5>\u001b[0;34m()\u001b[0m\n\u001b[1;32m      3\u001b[0m \u001b[0;32mfor\u001b[0m \u001b[0mi\u001b[0m \u001b[0;32min\u001b[0m \u001b[0mrange\u001b[0m\u001b[0;34m(\u001b[0m\u001b[0;36m0\u001b[0m\u001b[0;34m,\u001b[0m\u001b[0mlen\u001b[0m\u001b[0;34m(\u001b[0m\u001b[0mstring\u001b[0m\u001b[0;34m)\u001b[0m\u001b[0;34m)\u001b[0m\u001b[0;34m:\u001b[0m\u001b[0;34m\u001b[0m\u001b[0;34m\u001b[0m\u001b[0m\n\u001b[1;32m      4\u001b[0m   \u001b[0mprint\u001b[0m\u001b[0;34m(\u001b[0m\u001b[0mstring\u001b[0m\u001b[0;34m[\u001b[0m\u001b[0mi\u001b[0m\u001b[0;34m]\u001b[0m\u001b[0;34m,\u001b[0m\u001b[0mend\u001b[0m\u001b[0;34m=\u001b[0m\u001b[0;34m\"  \"\u001b[0m\u001b[0;34m)\u001b[0m\u001b[0;34m\u001b[0m\u001b[0;34m\u001b[0m\u001b[0m\n\u001b[0;32m----> 5\u001b[0;31m \u001b[0mstring\u001b[0m\u001b[0;34m[\u001b[0m\u001b[0;36m5\u001b[0m\u001b[0;34m]\u001b[0m\u001b[0;34m=\u001b[0m\u001b[0;34m\"Z\"\u001b[0m\u001b[0;34m\u001b[0m\u001b[0;34m\u001b[0m\u001b[0m\n\u001b[0m\u001b[1;32m      6\u001b[0m \u001b[0mprint\u001b[0m\u001b[0;34m(\u001b[0m\u001b[0mstring\u001b[0m\u001b[0;34m)\u001b[0m                          \u001b[0;31m#this will give error\u001b[0m\u001b[0;34m\u001b[0m\u001b[0;34m\u001b[0m\u001b[0m\n",
            "\u001b[0;31mTypeError\u001b[0m: 'str' object does not support item assignment"
          ]
        }
      ]
    },
    {
      "cell_type": "markdown",
      "source": [
        "**Q4. Discuss the different types of operators in Python and provide examples of how they are used.**\n",
        "\n",
        "**Sol.**Operators are special symbols or keywords that are used to carry out specific actions on numbers or variables in Python expressions.\n",
        "There are following operators in Python:\n",
        "1.   Arithmetic Operators\n",
        "2.   Comparison Operators\n",
        "3.   Logical Operators\n",
        "4.   Bitwise Operators\n",
        "5.   Assignment Operators\n",
        "6.   Membership Operators\n",
        "7.   Identity Operators\n",
        "\n",
        "**1.Arithmetic Operators:** Arithmetic operators are used with numeric values to perform common mathematical operations.\n",
        "\n",
        "\n",
        "\n",
        "\n"
      ],
      "metadata": {
        "id": "_nw7y-sehNbu"
      }
    },
    {
      "cell_type": "code",
      "source": [
        "x,y=25,3\n",
        "print(f\"Let the two numbers be {x} and {y}\")\n",
        "print(f\"Sum : {x+y}\")\n",
        "print(f\"Diff :{x-y}\")\n",
        "print(f\"Multiply :{x*y}\")\n",
        "print(f\"Divide :{x/y}\")\n",
        "print(f\"Modulus :{x%y}\")\n",
        "print(f\"Exponential :{x**y}\")\n",
        "print(f\"floor division :{x//y}\")"
      ],
      "metadata": {
        "colab": {
          "base_uri": "https://localhost:8080/"
        },
        "id": "DMGLzLzzjo9H",
        "outputId": "ddc0a337-8e90-4f36-c39e-552dd4c0394b"
      },
      "execution_count": null,
      "outputs": [
        {
          "output_type": "stream",
          "name": "stdout",
          "text": [
            "Let the two numbers be 25 and 3\n",
            "Sum : 28\n",
            "Diff :22\n",
            "Multiply :75\n",
            "Divide :8.333333333333334\n",
            "Modulus :1\n",
            "Exponential :15625\n",
            "floor division :8\n"
          ]
        }
      ]
    },
    {
      "cell_type": "markdown",
      "source": [
        "**2.Comparison Operators:** They are used to compare two values. Gives either true or false as output."
      ],
      "metadata": {
        "id": "vT0mBxapmaV4"
      }
    },
    {
      "cell_type": "code",
      "source": [
        "x,y=25,3\n",
        "print(f\"Let two numbers be {x} and {y}\")\n",
        "print(f\"Is {x} equal to {y}? : {x==y}\")\n",
        "print(f\"Is {x} greater then {y}? : {x>y}\")\n",
        "print(f\"Is {x} less then {y}? : {x<y}\")\n",
        "print(f\"Is {x} not equal to {y}? : {x!=y}\")\n",
        "print(f\"Is {x} greater then or equal to {y}? : {x>=y}\")\n",
        "print(f\"Is {x} less then or equal to {y}? : {x<=y}\")"
      ],
      "metadata": {
        "colab": {
          "base_uri": "https://localhost:8080/"
        },
        "id": "DnauOQRGmX4T",
        "outputId": "b52c154c-ff43-4a91-aba7-64c5307affa2"
      },
      "execution_count": null,
      "outputs": [
        {
          "output_type": "stream",
          "name": "stdout",
          "text": [
            "Let two numbers be 25 and 3\n",
            "Is 25 equal to 3? : False\n",
            "Is 25 greater then 3? : True\n",
            "Is 25 less then 3? : False\n",
            "Is 25 not equal to 3? : True\n",
            "Is 25 greater then or equal to 3? : True\n",
            "Is 25 less then or equal to 3? : False\n"
          ]
        }
      ]
    },
    {
      "cell_type": "markdown",
      "source": [
        "**3.Logical Operators:** They are used to combine conditional statements. It returns true or false."
      ],
      "metadata": {
        "id": "xNnxHfQdpf__"
      }
    },
    {
      "cell_type": "code",
      "source": [
        "x=int(input(\"Enter first value :\"))\n",
        "y=int(input(\"Enter other value :\"))\n",
        "if ((x<0) and (y <0)):\n",
        "  print(\"Both negative\")\n",
        "elif ((x<0) or (y<0)):\n",
        "  print(\"One positive and one negative\")\n",
        "else:\n",
        "  print(\"Both positive\")"
      ],
      "metadata": {
        "colab": {
          "base_uri": "https://localhost:8080/"
        },
        "id": "zFyAV7zQpvFz",
        "outputId": "3147bd52-88bd-4f10-cfa3-3fc2dc7b1198"
      },
      "execution_count": null,
      "outputs": [
        {
          "output_type": "stream",
          "name": "stdout",
          "text": [
            "Enter first value :-5\n",
            "Enter other value :53\n",
            "One positive and one negative\n"
          ]
        }
      ]
    },
    {
      "cell_type": "markdown",
      "source": [
        "**4.Bitwise Operators :**Bitwise operators are used to compare (binary) numbers.\n"
      ],
      "metadata": {
        "id": "g4r2gVZgryfG"
      }
    },
    {
      "cell_type": "code",
      "source": [
        "x=12\n",
        "y=5\n",
        "print(\"let two numbers be\",x,\" and \",y)\n",
        "print(f\"binary of {x} : {bin(x)}\")\n",
        "print(f\"binary of {y} : {bin(y)}\")\n",
        "print(\"AND OPERATION : \",x&y,\"  -  \" ,bin(4))\n",
        "print(f\"OR OPERATION : {x|y}\",\"  -  \" ,bin(13) )\n",
        "print(f\"XOR OPERATION : {x^y}\",\"  -  \" ,bin(9))\n",
        "print(f\"NOT OPERATION : {~x}\",\"  -  \" ,bin(13))\n",
        "print(f\"LEFT SHIFT OPERATION : {x<<y}\",\"  -  \" ,bin(384))\n",
        "print(f\"RIGHT SHIFT OPERATION : {x>>y}\",\"  -  \" ,bin(0))"
      ],
      "metadata": {
        "colab": {
          "base_uri": "https://localhost:8080/"
        },
        "id": "bTv03TLvsliA",
        "outputId": "6fe1d5f0-5522-4237-8f58-49a129d70a8a"
      },
      "execution_count": null,
      "outputs": [
        {
          "output_type": "stream",
          "name": "stdout",
          "text": [
            "let two numbers be 12  and  5\n",
            "binary of 12 : 0b1100\n",
            "binary of 5 : 0b101\n",
            "AND OPERATION :  4   -   0b100\n",
            "OR OPERATION : 13   -   0b1101\n",
            "XOR OPERATION : 9   -   0b1001\n",
            "NOT OPERATION : -13   -   0b1101\n",
            "LEFT SHIFT OPERATION : 384   -   0b110000000\n",
            "RIGHT SHIFT OPERATION : 0   -   0b0\n"
          ]
        }
      ]
    },
    {
      "cell_type": "markdown",
      "source": [
        "**5.Assignment Operators:** They are used to assign values to variables.  "
      ],
      "metadata": {
        "id": "H2RIDfLaskge"
      }
    },
    {
      "cell_type": "code",
      "source": [
        "x=5\n",
        "print(f\"USE OF = : {x}\")\n",
        "\n",
        "x+=1\n",
        "print(f\"USE OF += : {x}\")\n",
        "\n",
        "x-=1\n",
        "print(f\"USE OF -= : {x}\")\n",
        "\n",
        "x/=2\n",
        "print(f\"USE OF /= : {x}\")\n",
        "\n",
        "x*=2\n",
        "print(f\"USE OF *= : {x}\")\n",
        "\n",
        "x=bool(6)\n",
        "print(f\"USE OF AND= : {x&3}\")\n",
        "\n",
        "x=bool(6)\n",
        "print(f\"USE OF OR= : {x|3}\")\n",
        "\n",
        "x=26\n",
        "x>>=1\n",
        "print(\"USE OF >>= : \",x)\n"
      ],
      "metadata": {
        "colab": {
          "base_uri": "https://localhost:8080/"
        },
        "id": "0TjGFalzvYic",
        "outputId": "4c379030-45f3-46dc-ce7d-cf09a113962b"
      },
      "execution_count": null,
      "outputs": [
        {
          "output_type": "stream",
          "name": "stdout",
          "text": [
            "USE OF = : 5\n",
            "USE OF += : 6\n",
            "USE OF -= : 5\n",
            "USE OF /= : 2.5\n",
            "USE OF *= : 5.0\n",
            "USE OF AND= : 1\n",
            "USE OF OR= : 3\n",
            "USE OF >>= :  13\n"
          ]
        }
      ]
    },
    {
      "cell_type": "markdown",
      "source": [
        "**6.Identity Operators:** They are used to check if the objects are same  or not, with the same memory location."
      ],
      "metadata": {
        "id": "Rz-PShGazbCD"
      }
    },
    {
      "cell_type": "code",
      "source": [
        "x,y=25,23\n",
        "if x is y: print(\"variable x is same as variable y\")\n",
        "if x is not y: print(\"variable x is different from variable y\")\n",
        "# 'is' and 'is not' returns true or false"
      ],
      "metadata": {
        "colab": {
          "base_uri": "https://localhost:8080/"
        },
        "id": "IU34V7oV0QJx",
        "outputId": "f570904a-bf46-4a57-d19d-163e60fc2bd9"
      },
      "execution_count": null,
      "outputs": [
        {
          "output_type": "stream",
          "name": "stdout",
          "text": [
            "variable x is different from variable y\n"
          ]
        }
      ]
    },
    {
      "cell_type": "markdown",
      "source": [
        "**7.Membership Operations:** They are used to test if a sequence is presented in an object. These operatiors returns either True or False."
      ],
      "metadata": {
        "id": "t6v6toZN11Xb"
      }
    },
    {
      "cell_type": "code",
      "source": [
        "x=\"Test for memebership operatons\"\n",
        "y=\"ope\"\n",
        "z=\"fox\"\n",
        "def same():\n",
        "  print(\"Sequence present\")\n",
        "def not_same():\n",
        "  print(\"Sequence not present\")\n",
        "if y in x: same()\n",
        "if z not in x: not_same()"
      ],
      "metadata": {
        "colab": {
          "base_uri": "https://localhost:8080/"
        },
        "id": "5Xmt1bN62Ldy",
        "outputId": "384727c6-495c-496e-e27f-9950e199c93b"
      },
      "execution_count": null,
      "outputs": [
        {
          "output_type": "stream",
          "name": "stdout",
          "text": [
            "Sequence present\n",
            "Sequence not present\n"
          ]
        }
      ]
    },
    {
      "cell_type": "markdown",
      "source": [
        "**Q5. Explain the concept of type casting in Python with examples.**\n",
        "\n",
        "**Sol.**Type casting is the process of changing one data type to another.\n",
        "It is necessary for performing arithmetic operations, data manipulation, and input/output operations.\n",
        "Casting in python is done using constructor functions:\n",
        "\n",
        "**int() -** constructs an integer number from a float value by removing decimals or from a string (providing the string represents an integer number)\n",
        "\n",
        "**float() -** constructs a float number from an integer or from a string (providing the string represents a float or an integer)\n",
        "\n",
        "**str() -** constructs a string from a wide variety of data types, including characters, integer and float values.\n"
      ],
      "metadata": {
        "id": "uw1fEUTV4Amu"
      }
    },
    {
      "cell_type": "code",
      "source": [
        "x,y,z=10,\"25\",42.8\n",
        "\n",
        "def integer(a):\n",
        "  a=int(a)\n",
        "  print(f\"Value converted to integer successfully, new value : {a}, type {type(a)}\")\n",
        "\n",
        "def _float(b):\n",
        "  b=float(b)\n",
        "  print(f\"Value converted to float successfully, new value : {b}, type {type(b)}\")\n",
        "\n",
        "def string(c):\n",
        "  c=str(c)\n",
        "  print(f\"Value converted to float successfully, new value : {c}, type {type(c)}\")\n",
        "\n",
        "if type(x) is not _float:\n",
        "  print(x,type(x))\n",
        "  _float(x)\n",
        "if type(y) is not integer:\n",
        "  print(y,type(y))\n",
        "  integer(y)\n",
        "if type(z) is not string:\n",
        "  print(z,type(z))\n",
        "  string(z)"
      ],
      "metadata": {
        "colab": {
          "base_uri": "https://localhost:8080/"
        },
        "id": "t20eQda66lB4",
        "outputId": "d30a8841-fa54-4431-8fb3-f96e7e301ae6"
      },
      "execution_count": null,
      "outputs": [
        {
          "output_type": "stream",
          "name": "stdout",
          "text": [
            "10 <class 'int'>\n",
            "Value converted to float successfully, new value : 10.0, type <class 'float'>\n",
            "25 <class 'str'>\n",
            "Value converted to integer successfully, new value : 25, type <class 'int'>\n",
            "42.8 <class 'float'>\n",
            "Value converted to float successfully, new value : 42.8, type <class 'str'>\n"
          ]
        }
      ]
    },
    {
      "cell_type": "markdown",
      "source": [
        "**Q6.How do conditional statements work in Python? Illustrate with examples.**\n",
        "\n",
        "**Sol.**Conditional statements are used when we need to run a certain code to be executed when certain conditions are met.Python supports conditional statements such as if, elif (else if), and else to control the flow of execution."
      ],
      "metadata": {
        "id": "SIRAsgYEC1h0"
      }
    },
    {
      "cell_type": "code",
      "source": [
        "x=2\n",
        "y=10\n",
        "if x>y: print(f\"{x} i.e. x  is greater then {y} i.e. y\")\n",
        "else: print(f\"{y} i.e y is greater then {x} i.e. x\")"
      ],
      "metadata": {
        "colab": {
          "base_uri": "https://localhost:8080/"
        },
        "id": "5cKdnFGiRk4H",
        "outputId": "42d44450-305a-4ca3-b1c1-d5fa35b82e1e"
      },
      "execution_count": null,
      "outputs": [
        {
          "output_type": "stream",
          "name": "stdout",
          "text": [
            "10 i.e y is greater then 2 i.e. x\n"
          ]
        }
      ]
    },
    {
      "cell_type": "markdown",
      "source": [
        "In this example we use two variables, x and y, which are used as part of the if statement to test whether which is greater. As x is 2, and y is 10, we know that 10 is greater than 2, and so we print to screen that \"y is greater than x\"."
      ],
      "metadata": {
        "id": "bKRMh90jTx75"
      }
    },
    {
      "cell_type": "code",
      "source": [
        "x,y=20,20\n",
        "if x>y: print(\"x is greater then y\")\n",
        "elif x<y: print(\"y is greater then x\")\n",
        "else: print(\"x and y are equal\")"
      ],
      "metadata": {
        "colab": {
          "base_uri": "https://localhost:8080/"
        },
        "id": "X3qYCZhBUSs8",
        "outputId": "32565c38-da90-4c38-eacf-0c62404b5f9d"
      },
      "execution_count": null,
      "outputs": [
        {
          "output_type": "stream",
          "name": "stdout",
          "text": [
            "x and y are equal\n"
          ]
        }
      ]
    },
    {
      "cell_type": "markdown",
      "source": [
        "elif is used when we need to check multiple conditions.  "
      ],
      "metadata": {
        "id": "eSwjsVLCVnPR"
      }
    },
    {
      "cell_type": "markdown",
      "source": [
        "**Q7.Describe the different types of loops in Python and their use cases with examples.**\n",
        "\n",
        "**Sol.**loops are used to repeat a sequence of logic until a specific condition is fulfilled. Python supports two loops:\n",
        "1. For loop.\n",
        "2. While loop.\n",
        "\n",
        "**For Loop:** For loop is used for iterating over a sequence. It does not require an indexing variable to be set beforehand.\n",
        "\n",
        "*Syntax*\n",
        "```\n",
        "for iteration_var in range:\n",
        "  logic\n",
        "```\n",
        "*for loop works with else which is executed once the loop is completed*\n",
        "\n",
        "*Syntax*\n",
        "```\n",
        "for iteration_var in range:\n",
        "  logic_1\n",
        "else:\n",
        "  logic_2\n",
        "```\n",
        "**While loop:** While loop is used for executing code until a specified condition becomes False.\n",
        "\n",
        "*Syntax*\n",
        "```\n",
        "while expression:\n",
        "    logic\n",
        "```\n",
        "*while loop also works with else which is executed once the loop is completed, if the loop does not execute fully, else statement will not execute*\n",
        "\n",
        "*Syntax*\n",
        "```\n",
        "while expression:\n",
        "    logic_1\n",
        "else:\n",
        "    logic_2\n",
        "```\n",
        "\n",
        "\n"
      ],
      "metadata": {
        "id": "AsK9bpwihzdw"
      }
    },
    {
      "cell_type": "code",
      "source": [
        "#use of for loop to enter numbers in list\n",
        "\n",
        "num =int(input(\"Enter the total number of elements : \"))\n",
        "n=[]\n",
        "for i in range(0,num):\n",
        "  x=int(input())\n",
        "  n.append(x)\n",
        "print(f\"the list is : {n}\")\n",
        "\n"
      ],
      "metadata": {
        "colab": {
          "base_uri": "https://localhost:8080/"
        },
        "id": "IVrtFxQmzNf5",
        "outputId": "bb9b7bcc-5b78-4939-82be-967ab84ed173"
      },
      "execution_count": null,
      "outputs": [
        {
          "output_type": "stream",
          "name": "stdout",
          "text": [
            "Enter the total number of elements : 4\n",
            "12\n",
            "15\n",
            "10\n",
            "55\n",
            "the list is : [12, 15, 10, 55]\n"
          ]
        }
      ]
    },
    {
      "cell_type": "code",
      "source": [
        "# For loop and else, where else statement is executed\n",
        "for x in range(6):\n",
        "  if x == 3:\n",
        "    continue\n",
        "  print(x)\n",
        "else:\n",
        "  print(\"Finally finished!\")"
      ],
      "metadata": {
        "colab": {
          "base_uri": "https://localhost:8080/"
        },
        "id": "D4IXjiVP9Shi",
        "outputId": "1fffd06a-f3af-43ea-bc11-9282e9e4d123"
      },
      "execution_count": null,
      "outputs": [
        {
          "output_type": "stream",
          "name": "stdout",
          "text": [
            "0\n",
            "1\n",
            "2\n",
            "4\n",
            "5\n",
            "Finally finished!\n"
          ]
        }
      ]
    },
    {
      "cell_type": "code",
      "source": [
        "#For loop and else, where else statement is not executed\n",
        "for x in range(6):\n",
        "  if x == 3:\n",
        "    break                  #due to \"break\" the interpreater will exit the loop\n",
        "  print(x)\n",
        "else:\n",
        "  print(\"Finally finished!\")"
      ],
      "metadata": {
        "colab": {
          "base_uri": "https://localhost:8080/"
        },
        "id": "SDt1gRRB-ysF",
        "outputId": "8eb56653-11d4-487c-e9ed-641570180f8a"
      },
      "execution_count": null,
      "outputs": [
        {
          "output_type": "stream",
          "name": "stdout",
          "text": [
            "0\n",
            "1\n",
            "2\n"
          ]
        }
      ]
    },
    {
      "cell_type": "code",
      "source": [
        "#while loop to print the string in reverse\n",
        "x=input(\"Enter the string: \")\n",
        "i=len(x)\n",
        "\n",
        "while i>0:\n",
        "  i-=1\n",
        "  print(x[i], end=\"\")"
      ],
      "metadata": {
        "colab": {
          "base_uri": "https://localhost:8080/"
        },
        "id": "GksErbRv_4yL",
        "outputId": "96d10195-6033-4854-968a-31b75de8852d"
      },
      "execution_count": null,
      "outputs": [
        {
          "output_type": "stream",
          "name": "stdout",
          "text": [
            "Enter the string: hello\n",
            "input string : hello\n",
            "olleh"
          ]
        }
      ]
    },
    {
      "cell_type": "code",
      "source": [
        "#while loop with else ,where else statement is executed, to print even numbers\n",
        "n=10\n",
        "\n",
        "while n>0:\n",
        "  if n%2==0:\n",
        "    print(n)\n",
        "  n-=1\n",
        "else: print(\"Loop executed fully!\")\n",
        "\n"
      ],
      "metadata": {
        "colab": {
          "base_uri": "https://localhost:8080/"
        },
        "id": "dCJnIRmbDo4M",
        "outputId": "4f04669a-391c-4f07-dd8c-dc1147772a1f"
      },
      "execution_count": null,
      "outputs": [
        {
          "output_type": "stream",
          "name": "stdout",
          "text": [
            "10\n",
            "8\n",
            "6\n",
            "4\n",
            "2\n",
            "Loop executed fully!\n"
          ]
        }
      ]
    },
    {
      "cell_type": "code",
      "source": [
        "#while loop with else ,where else statement is not executed, to print even numbers\n",
        "n=10\n",
        "\n",
        "while n>0:\n",
        "  if n%2==0:\n",
        "    print(n)\n",
        "  if n==3:\n",
        "    break\n",
        "  n-=1\n",
        "else: print(\"Loop executed fully!\")"
      ],
      "metadata": {
        "colab": {
          "base_uri": "https://localhost:8080/"
        },
        "id": "Odyc79QsFLcJ",
        "outputId": "2779a9d2-f721-4974-f91a-103f7108028a"
      },
      "execution_count": null,
      "outputs": [
        {
          "output_type": "stream",
          "name": "stdout",
          "text": [
            "10\n",
            "8\n",
            "6\n",
            "4\n"
          ]
        }
      ]
    }
  ],
  "metadata": {
    "colab": {
      "provenance": []
    },
    "kernelspec": {
      "display_name": "Python 3",
      "name": "python3"
    },
    "language_info": {
      "name": "python"
    }
  },
  "nbformat": 4,
  "nbformat_minor": 0
}